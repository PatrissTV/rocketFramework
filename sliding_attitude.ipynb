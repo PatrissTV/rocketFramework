{
 "cells": [
  {
   "cell_type": "code",
   "execution_count": 70,
   "metadata": {},
   "outputs": [],
   "source": [
    "import numpy as np\n",
    "import matplotlib.pyplot as plt\n",
    "from Rocket import Rocket\n",
    "from Dynamics import Dynamics\n",
    "from Plot3D import Plot3D\n",
    "from MPC import MPC\n",
    "from Sliding import Sliding\n",
    "from Quat import Quat\n",
    "\n",
    "import time\n",
    "import pylab as pl\n",
    "from IPython import display\n",
    "\n",
    "#np.set_printoptions(precision=3,suppress=True)"
   ]
  },
  {
   "cell_type": "code",
   "execution_count": 71,
   "metadata": {},
   "outputs": [],
   "source": [
    "#https://www.spacex.com/vehicles/falcon-9/\n",
    "\n",
    "falcon = Rocket(\"Falcon 9\")\n",
    "falcon.mass = 100 #kg\n",
    "falcon.height = 7 #m\n",
    "falcon.radius = 0.37/2 #m\n",
    "falcon.max_thrust = 10 #N\n",
    "falcon.cg_thrust_length = 2 #m\n",
    "falcon.cg_cp_length = 1.5 #m\n",
    "falcon.Cd = 10000.82\n",
    "\n",
    "falcon.load()\n",
    "dynamics = Dynamics(falcon)\n",
    "mpc = MPC(falcon)"
   ]
  },
  {
   "cell_type": "code",
   "execution_count": 72,
   "metadata": {},
   "outputs": [
    {
     "data": {
      "text/plain": [
       "' falcon.input(0.05,0.01,1*np.pi/2)\\nfor j in range(100):\\n        dynamics.update(0.1)\\n\\nplot3d = Plot3D(falcon, dynamics.states)\\nplot3d.set(10,5)\\nplot3d.plot()\\nplot3d.attitude()\\nplot3d.origin()\\nprint(\"Plot?\") '"
      ]
     },
     "execution_count": 72,
     "metadata": {},
     "output_type": "execute_result"
    }
   ],
   "source": [
    "\"\"\" falcon.input(0.05,0.01,1*np.pi/2)\n",
    "for j in range(100):\n",
    "        dynamics.update(0.1)\n",
    "\n",
    "plot3d = Plot3D(falcon, dynamics.states)\n",
    "plot3d.set(10,5)\n",
    "plot3d.plot()\n",
    "plot3d.attitude()\n",
    "plot3d.origin()\n",
    "print(\"Plot?\") \"\"\""
   ]
  },
  {
   "cell_type": "code",
   "execution_count": 73,
   "metadata": {},
   "outputs": [],
   "source": [
    "class Attitude(Sliding):\n",
    "    def __init__(self,rocket):\n",
    "        self.rocket = rocket\n",
    "        eta = np.diag([1,1,1])\n",
    "        lam = 2\n",
    "        phi = 10\n",
    "        alpha = 2 #Hz\n",
    "\n",
    "        B = rocket.inertia/rocket.inertia[0,0]\n",
    "        B2 = np.linalg.inv(B)\n",
    "        A = lambda w: B2 @ np.cross(w,rocket.inertia@w,axis=0)\n",
    "        \n",
    "        \n",
    "        super().__init__(eta,lam,phi,alpha,A,B)\n",
    "\n",
    "    def control(self,state):\n",
    "        theta = Quat.eulerAngles(state[6:10])\n",
    "        theta2 = np.array([[theta[0],theta[1],theta[2]]]).T\n",
    "        print(\"theta\",theta2)\n",
    "        w = np.array([state[10:13]]).T\n",
    "        print(\"w\",w)\n",
    "        c = self.input(theta2,w)\n",
    "        print(\"c\",c)\n",
    "\n",
    "    \n",
    "\n",
    "        print(\"theta\",theta2)\n",
    "        print(\"w\",w)\n",
    "        print(\"c\",c)\n",
    "        import time\n",
    "        time.sleep(1)\n",
    "        return [0,c[1,0]/self.rocket.cg_thrust_length*100,-c[2,0]/self.rocket.cg_thrust_length*100]\n",
    "    \n",
    "attitude = Attitude(falcon)\n",
    "\n",
    "attitude.ref = np.array([[0.1,0.1,0]]).T\n",
    "x0 = [0,0,0,0,0,0,0]\n"
   ]
  },
  {
   "cell_type": "code",
   "execution_count": 74,
   "metadata": {},
   "outputs": [
    {
     "name": "stdout",
     "output_type": "stream",
     "text": [
      "[[0.06]\n",
      " [0.06]\n",
      " [0.  ]]\n",
      "[[0.274164]\n",
      " [0.274164]\n",
      " [0.      ]]\n",
      "[[0.15603698]\n",
      " [0.15603698]\n",
      " [0.        ]]\n",
      "[[8.84464605e-02]\n",
      " [8.84464605e-02]\n",
      " [3.95087230e-13]]\n",
      "[[ 4.97731734e-02]\n",
      " [ 4.97731734e-02]\n",
      " [-4.05946117e-11]]\n",
      "[[2.76464680e-02]\n",
      " [2.76464680e-02]\n",
      " [4.12953666e-09]]\n",
      "[[ 1.49877946e-02]\n",
      " [ 1.49877937e-02]\n",
      " [-4.20161770e-07]]\n",
      "[[7.74672389e-03]\n",
      " [7.74681509e-03]\n",
      " [4.27496497e-05]]\n",
      "[[ 0.00361044]\n",
      " [ 0.00360105]\n",
      " [-0.00434959]]\n",
      "[[0.00075848]\n",
      " [0.00171863]\n",
      " [0.44255231]]\n",
      "[[  0.04885526]\n",
      " [ -0.0490148 ]\n",
      " [-45.02779098]]\n",
      "[[  -4.62783662]\n",
      " [   5.32893771]\n",
      " [4581.38372213]]\n",
      "[[   4402.86390343]\n",
      " [   2872.46006163]\n",
      " [-433738.32896837]]\n",
      "[[-2.00942042e+08]\n",
      " [ 3.07086976e+08]\n",
      " [ 4.09666281e+07]]\n",
      "[[ 2.02475562e+15]\n",
      " [ 1.32485513e+15]\n",
      " [-3.86916829e+09]]\n",
      "[[-8.25017081e+23]\n",
      " [ 1.26086044e+24]\n",
      " [ 3.65430558e+11]]\n",
      "[[ 7.41564118e+34]\n",
      " [ 4.85226630e+34]\n",
      " [-3.45137461e+13]]\n",
      "[[-2.69533999e+47]\n",
      " [ 4.11924511e+47]\n",
      " [ 3.25971281e+15]]\n",
      "[[ 2.16109472e+62]\n",
      " [ 1.41406614e+62]\n",
      " [-3.07869438e+17]]\n",
      "[[-7.00669365e+078]\n",
      " [ 1.07082181e+079]\n",
      " [ 3.34303708e+112]]\n",
      "[[5.82249810e+190]\n",
      " [3.80982718e+190]\n",
      " [8.67902046e+145]]\n",
      "[[nan]\n",
      " [nan]\n",
      " [nan]]\n"
     ]
    },
    {
     "ename": "KeyboardInterrupt",
     "evalue": "",
     "output_type": "error",
     "traceback": [
      "\u001b[1;31m---------------------------------------------------------------------------\u001b[0m",
      "\u001b[1;31mKeyboardInterrupt\u001b[0m                         Traceback (most recent call last)",
      "Cell \u001b[1;32mIn[74], line 28\u001b[0m\n\u001b[0;32m     25\u001b[0m     phi_dot \u001b[39m=\u001b[39m \u001b[39m0\u001b[39m\n\u001b[0;32m     26\u001b[0m     \u001b[39mreturn\u001b[39;00m [wx,wy,wz,th_dot[\u001b[39m0\u001b[39m,\u001b[39m0\u001b[39m],th_dot[\u001b[39m1\u001b[39m,\u001b[39m0\u001b[39m],th_dot[\u001b[39m2\u001b[39m,\u001b[39m0\u001b[39m],phi_dot]\n\u001b[1;32m---> 28\u001b[0m sol \u001b[39m=\u001b[39m solve_ivp(ode,[\u001b[39m0\u001b[39;49m,tf\u001b[39m/\u001b[39;49mN],x0)\n\u001b[0;32m     29\u001b[0m x0 \u001b[39m=\u001b[39m sol\u001b[39m.\u001b[39my[:,\u001b[39m-\u001b[39m\u001b[39m1\u001b[39m]\n",
      "File \u001b[1;32mc:\\Users\\Patri\\anaconda3\\envs\\mpc\\Lib\\site-packages\\scipy\\integrate\\_ivp\\ivp.py:591\u001b[0m, in \u001b[0;36msolve_ivp\u001b[1;34m(fun, t_span, y0, method, t_eval, dense_output, events, vectorized, args, **options)\u001b[0m\n\u001b[0;32m    589\u001b[0m status \u001b[39m=\u001b[39m \u001b[39mNone\u001b[39;00m\n\u001b[0;32m    590\u001b[0m \u001b[39mwhile\u001b[39;00m status \u001b[39mis\u001b[39;00m \u001b[39mNone\u001b[39;00m:\n\u001b[1;32m--> 591\u001b[0m     message \u001b[39m=\u001b[39m solver\u001b[39m.\u001b[39;49mstep()\n\u001b[0;32m    593\u001b[0m     \u001b[39mif\u001b[39;00m solver\u001b[39m.\u001b[39mstatus \u001b[39m==\u001b[39m \u001b[39m'\u001b[39m\u001b[39mfinished\u001b[39m\u001b[39m'\u001b[39m:\n\u001b[0;32m    594\u001b[0m         status \u001b[39m=\u001b[39m \u001b[39m0\u001b[39m\n",
      "File \u001b[1;32mc:\\Users\\Patri\\anaconda3\\envs\\mpc\\Lib\\site-packages\\scipy\\integrate\\_ivp\\base.py:181\u001b[0m, in \u001b[0;36mOdeSolver.step\u001b[1;34m(self)\u001b[0m\n\u001b[0;32m    179\u001b[0m \u001b[39melse\u001b[39;00m:\n\u001b[0;32m    180\u001b[0m     t \u001b[39m=\u001b[39m \u001b[39mself\u001b[39m\u001b[39m.\u001b[39mt\n\u001b[1;32m--> 181\u001b[0m     success, message \u001b[39m=\u001b[39m \u001b[39mself\u001b[39;49m\u001b[39m.\u001b[39;49m_step_impl()\n\u001b[0;32m    183\u001b[0m     \u001b[39mif\u001b[39;00m \u001b[39mnot\u001b[39;00m success:\n\u001b[0;32m    184\u001b[0m         \u001b[39mself\u001b[39m\u001b[39m.\u001b[39mstatus \u001b[39m=\u001b[39m \u001b[39m'\u001b[39m\u001b[39mfailed\u001b[39m\u001b[39m'\u001b[39m\n",
      "File \u001b[1;32mc:\\Users\\Patri\\anaconda3\\envs\\mpc\\Lib\\site-packages\\scipy\\integrate\\_ivp\\rk.py:144\u001b[0m, in \u001b[0;36mRungeKutta._step_impl\u001b[1;34m(self)\u001b[0m\n\u001b[0;32m    141\u001b[0m h \u001b[39m=\u001b[39m t_new \u001b[39m-\u001b[39m t\n\u001b[0;32m    142\u001b[0m h_abs \u001b[39m=\u001b[39m np\u001b[39m.\u001b[39mabs(h)\n\u001b[1;32m--> 144\u001b[0m y_new, f_new \u001b[39m=\u001b[39m rk_step(\u001b[39mself\u001b[39;49m\u001b[39m.\u001b[39;49mfun, t, y, \u001b[39mself\u001b[39;49m\u001b[39m.\u001b[39;49mf, h, \u001b[39mself\u001b[39;49m\u001b[39m.\u001b[39;49mA,\n\u001b[0;32m    145\u001b[0m                        \u001b[39mself\u001b[39;49m\u001b[39m.\u001b[39;49mB, \u001b[39mself\u001b[39;49m\u001b[39m.\u001b[39;49mC, \u001b[39mself\u001b[39;49m\u001b[39m.\u001b[39;49mK)\n\u001b[0;32m    146\u001b[0m scale \u001b[39m=\u001b[39m atol \u001b[39m+\u001b[39m np\u001b[39m.\u001b[39mmaximum(np\u001b[39m.\u001b[39mabs(y), np\u001b[39m.\u001b[39mabs(y_new)) \u001b[39m*\u001b[39m rtol\n\u001b[0;32m    147\u001b[0m error_norm \u001b[39m=\u001b[39m \u001b[39mself\u001b[39m\u001b[39m.\u001b[39m_estimate_error_norm(\u001b[39mself\u001b[39m\u001b[39m.\u001b[39mK, h, scale)\n",
      "File \u001b[1;32mc:\\Users\\Patri\\anaconda3\\envs\\mpc\\Lib\\site-packages\\scipy\\integrate\\_ivp\\rk.py:63\u001b[0m, in \u001b[0;36mrk_step\u001b[1;34m(fun, t, y, f, h, A, B, C, K)\u001b[0m\n\u001b[0;32m     61\u001b[0m K[\u001b[39m0\u001b[39m] \u001b[39m=\u001b[39m f\n\u001b[0;32m     62\u001b[0m \u001b[39mfor\u001b[39;00m s, (a, c) \u001b[39min\u001b[39;00m \u001b[39menumerate\u001b[39m(\u001b[39mzip\u001b[39m(A[\u001b[39m1\u001b[39m:], C[\u001b[39m1\u001b[39m:]), start\u001b[39m=\u001b[39m\u001b[39m1\u001b[39m):\n\u001b[1;32m---> 63\u001b[0m     dy \u001b[39m=\u001b[39m np\u001b[39m.\u001b[39;49mdot(K[:s]\u001b[39m.\u001b[39;49mT, a[:s]) \u001b[39m*\u001b[39m h\n\u001b[0;32m     64\u001b[0m     K[s] \u001b[39m=\u001b[39m fun(t \u001b[39m+\u001b[39m c \u001b[39m*\u001b[39m h, y \u001b[39m+\u001b[39m dy)\n\u001b[0;32m     66\u001b[0m y_new \u001b[39m=\u001b[39m y \u001b[39m+\u001b[39m h \u001b[39m*\u001b[39m np\u001b[39m.\u001b[39mdot(K[:\u001b[39m-\u001b[39m\u001b[39m1\u001b[39m]\u001b[39m.\u001b[39mT, B)\n",
      "File \u001b[1;32m<__array_function__ internals>:200\u001b[0m, in \u001b[0;36mdot\u001b[1;34m(*args, **kwargs)\u001b[0m\n",
      "\u001b[1;31mKeyboardInterrupt\u001b[0m: "
     ]
    }
   ],
   "source": [
    "from scipy.integrate import solve_ivp\n",
    "N = 1000\n",
    "tf = 20\n",
    "t_eval = np.linspace(0,tf,N+2)\n",
    "B2 = np.linalg.inv(falcon.inertia/falcon.inertia[0,0])\n",
    "\n",
    "\n",
    "for i in range(N):\n",
    "    theta_x,theta_y,theta_z,wx,wy,wz,phi= x0\n",
    "    q = np.array([[theta_x,theta_y,theta_z]]).T\n",
    "    dq = np.array([[wx,wy,wz]]).T\n",
    "    u = attitude.input(q,dq)\n",
    "\n",
    "    print(u)\n",
    "\n",
    "    def ode(t,state):\n",
    "        theta_x,theta_y,theta_z,wx,wy,wz,phi= state\n",
    "        attitude.phi = 2\n",
    "\n",
    "        q = np.array([[theta_x,theta_y,theta_z]]).T\n",
    "        dq = np.array([[wx,wy,wz]]).T\n",
    "\n",
    "        th_dot = u #B2 @ u -B2 @ np.cross(dq,(falcon.inertia/falcon.inertia[0,0])@dq,axis=0)\n",
    "        \n",
    "        phi_dot = 0\n",
    "        return [wx,wy,wz,th_dot[0,0],th_dot[1,0],th_dot[2,0],phi_dot]\n",
    "\n",
    "    sol = solve_ivp(ode,[0,tf/N],x0)\n",
    "    x0 = sol.y[:,-1]\n",
    "\n"
   ]
  },
  {
   "cell_type": "code",
   "execution_count": 75,
   "metadata": {},
   "outputs": [
    {
     "data": {
      "text/plain": [
       "[<matplotlib.lines.Line2D at 0x177f6e42050>]"
      ]
     },
     "execution_count": 75,
     "metadata": {},
     "output_type": "execute_result"
    },
    {
     "data": {
      "image/png": "[encoded data removed]",
      "text/plain": [
       "<Figure size 640x480 with 1 Axes>"
      ]
     },
     "metadata": {},
     "output_type": "display_data"
    },
    {
     "data": {
      "image/png": "[encoded data removed]",
      "text/plain": [
       "<Figure size 640x480 with 1 Axes>"
      ]
     },
     "metadata": {},
     "output_type": "display_data"
    }
   ],
   "source": [
    "plt.plot(sol.t,sol.y[0])\n",
    "\n",
    "plt.figure()\n",
    "\n",
    "plt.plot(attitude.inputs[0,:])"
   ]
  }
 ],
 "metadata": {
  "kernelspec": {
   "display_name": "Python 3",
   "language": "python",
   "name": "python3"
  },
  "language_info": {
   "codemirror_mode": {
    "name": "ipython",
    "version": 3
   },
   "file_extension": ".py",
   "mimetype": "text/x-python",
   "name": "python",
   "nbconvert_exporter": "python",
   "pygments_lexer": "ipython3",
   "version": "3.11.3"
  },
  "orig_nbformat": 4
 },
 "nbformat": 4,
 "nbformat_minor": 2
}
