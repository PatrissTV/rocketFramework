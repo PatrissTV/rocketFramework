{
 "cells": [
  {
   "cell_type": "code",
   "execution_count": 1,
   "metadata": {},
   "outputs": [],
   "source": [
    "import numpy as np\n",
    "import matplotlib.pyplot as plt\n",
    "from Rocket import Rocket\n",
    "from Dynamics import Dynamics\n",
    "from Plot3D import Plot3D\n",
    "from MPC import MPC\n",
    "from Sliding import Sliding\n",
    "from Quat import Quat\n",
    "\n",
    "import time\n",
    "import pylab as pl\n",
    "from IPython import display\n",
    "\n",
    "#np.set_printoptions(precision=3,suppress=True)"
   ]
  },
  {
   "cell_type": "code",
   "execution_count": 2,
   "metadata": {},
   "outputs": [],
   "source": [
    "#https://www.spacex.com/vehicles/falcon-9/\n",
    "\n",
    "falcon = Rocket(\"Falcon 9\")\n",
    "falcon.mass = 549054 #kg\n",
    "falcon.height = 70 #m\n",
    "falcon.radius = 3.7/2 #m\n",
    "falcon.max_thrust = 7607e3 #N\n",
    "falcon.cg_thrust_length = 20 #m\n",
    "falcon.cg_cp_length = 15 #m\n",
    "falcon.Cd = 10000.82\n",
    "\n",
    "falcon.load()\n",
    "dynamics = Dynamics(falcon)\n",
    "mpc = MPC(falcon)"
   ]
  },
  {
   "cell_type": "code",
   "execution_count": 3,
   "metadata": {},
   "outputs": [
    {
     "data": {
      "text/plain": [
       "' #https://www.spacex.com/vehicles/falcon-9/\\n\\nfalcon = Rocket(\"Falcon 9\")\\nfalcon.mass = 100 #kg\\nfalcon.height = 7 #m\\nfalcon.radius = 0.37/2 #m\\nfalcon.max_thrust = 1000 #N\\nfalcon.cg_thrust_length = 2 #m\\nfalcon.cg_cp_length = 1.5 #m\\nfalcon.Cd = 10000.82\\n\\nfalcon.load()\\ndynamics = Dynamics(falcon)\\nmpc = MPC(falcon) '"
      ]
     },
     "execution_count": 3,
     "metadata": {},
     "output_type": "execute_result"
    }
   ],
   "source": [
    "\"\"\" #https://www.spacex.com/vehicles/falcon-9/\n",
    "\n",
    "falcon = Rocket(\"Falcon 9\")\n",
    "falcon.mass = 100 #kg\n",
    "falcon.height = 7 #m\n",
    "falcon.radius = 0.37/2 #m\n",
    "falcon.max_thrust = 1000 #N\n",
    "falcon.cg_thrust_length = 2 #m\n",
    "falcon.cg_cp_length = 1.5 #m\n",
    "falcon.Cd = 10000.82\n",
    "\n",
    "falcon.load()\n",
    "dynamics = Dynamics(falcon)\n",
    "mpc = MPC(falcon) \"\"\""
   ]
  },
  {
   "cell_type": "code",
   "execution_count": 4,
   "metadata": {},
   "outputs": [
    {
     "data": {
      "text/plain": [
       "' falcon.input(0.05,0.01,1*np.pi/2)\\nfor j in range(100):\\n        dynamics.update(0.1)\\n\\nplot3d = Plot3D(falcon, dynamics.states)\\nplot3d.set(10,5)\\nplot3d.plot()\\nplot3d.attitude()\\nplot3d.origin()\\nprint(\"Plot?\") '"
      ]
     },
     "execution_count": 4,
     "metadata": {},
     "output_type": "execute_result"
    }
   ],
   "source": [
    "\"\"\" falcon.input(0.05,0.01,1*np.pi/2)\n",
    "for j in range(100):\n",
    "        dynamics.update(0.1)\n",
    "\n",
    "plot3d = Plot3D(falcon, dynamics.states)\n",
    "plot3d.set(10,5)\n",
    "plot3d.plot()\n",
    "plot3d.attitude()\n",
    "plot3d.origin()\n",
    "print(\"Plot?\") \"\"\""
   ]
  },
  {
   "cell_type": "code",
   "execution_count": 5,
   "metadata": {},
   "outputs": [],
   "source": [
    "class Attitude(Sliding):\n",
    "    def __init__(self,rocket):\n",
    "        self.rocket = rocket\n",
    "        eta = np.diag([1,1,1])*152140000.0/rocket.inertia[0,0]*falcon.cg_thrust_length\n",
    "        lam = 2\n",
    "        phi = 10\n",
    "        alpha = 10 #Hz\n",
    "\n",
    "        B = rocket.inertia/rocket.inertia[0,0]\n",
    "        B2 = np.linalg.inv(B)\n",
    "        A = lambda w: B2 @ np.cross(w,rocket.inertia@w,axis=0)\n",
    "        \n",
    "        \n",
    "        super().__init__(eta,lam,phi,alpha,A,B)\n",
    "\n",
    "    def control(self,state):\n",
    "        theta = Quat.eulerAngles(state[6:10])\n",
    "        theta2 = np.array([[theta[0],theta[1],theta[2]]]).T\n",
    "        print(\"theta\",theta2)\n",
    "        w = np.array([state[10:13]]).T\n",
    "        print(\"w\",w)\n",
    "        c = self.input(theta2,w)\n",
    "        print(\"c\",c)\n",
    "\n",
    "    \n",
    "\n",
    "        print(\"theta\",theta2)\n",
    "        print(\"w\",w)\n",
    "        print(\"c\",c)\n",
    "        import time\n",
    "        time.sleep(1)\n",
    "        return [0,c[1,0]/self.rocket.cg_thrust_length*100,-c[2,0]/self.rocket.cg_thrust_length*100]\n",
    "    \n",
    "attitude = Attitude(falcon)\n",
    "\n",
    "attitude.ref = np.array([[0.1,0.1,0]]).T\n"
   ]
  },
  {
   "cell_type": "code",
   "execution_count": 6,
   "metadata": {},
   "outputs": [
    {
     "data": {
      "text/plain": [
       "152140000.0"
      ]
     },
     "execution_count": 6,
     "metadata": {},
     "output_type": "execute_result"
    }
   ],
   "source": [
    "falcon.max_thrust*falcon.cg_thrust_length/falcon.inertia[0,0]\n",
    "\n",
    "falcon.max_thrust*falcon.cg_thrust_length\n"
   ]
  },
  {
   "cell_type": "code",
   "execution_count": 7,
   "metadata": {},
   "outputs": [
    {
     "ename": "KeyboardInterrupt",
     "evalue": "",
     "output_type": "error",
     "traceback": [
      "\u001b[1;31m---------------------------------------------------------------------------\u001b[0m",
      "\u001b[1;31mKeyboardInterrupt\u001b[0m                         Traceback (most recent call last)",
      "Cell \u001b[1;32mIn[7], line 14\u001b[0m\n\u001b[0;32m     11\u001b[0m     \u001b[39mreturn\u001b[39;00m [wx,wy,wz,th_dot[\u001b[39m0\u001b[39m,\u001b[39m0\u001b[39m],th_dot[\u001b[39m1\u001b[39m,\u001b[39m0\u001b[39m],th_dot[\u001b[39m2\u001b[39m,\u001b[39m0\u001b[39m],phi_dot]\n\u001b[0;32m     13\u001b[0m t_eval \u001b[39m=\u001b[39m np\u001b[39m.\u001b[39mlinspace(\u001b[39m0\u001b[39m,\u001b[39m10\u001b[39m,\u001b[39m100\u001b[39m)\n\u001b[1;32m---> 14\u001b[0m sol \u001b[39m=\u001b[39m solve_ivp(ode,[\u001b[39m0\u001b[39;49m,\u001b[39m10\u001b[39;49m],[\u001b[39m0\u001b[39;49m,\u001b[39m0\u001b[39;49m,\u001b[39m0\u001b[39;49m,\u001b[39m0\u001b[39;49m,\u001b[39m0\u001b[39;49m,\u001b[39m0\u001b[39;49m,\u001b[39m100\u001b[39;49m],t_eval\u001b[39m=\u001b[39;49mt_eval,rtol\u001b[39m=\u001b[39;49m\u001b[39m1e-1\u001b[39;49m)\n\u001b[0;32m     16\u001b[0m \u001b[39mprint\u001b[39m(sol\u001b[39m.\u001b[39my)\n",
      "File \u001b[1;32mc:\\Users\\Patri\\anaconda3\\envs\\mpc\\Lib\\site-packages\\scipy\\integrate\\_ivp\\ivp.py:591\u001b[0m, in \u001b[0;36msolve_ivp\u001b[1;34m(fun, t_span, y0, method, t_eval, dense_output, events, vectorized, args, **options)\u001b[0m\n\u001b[0;32m    589\u001b[0m status \u001b[39m=\u001b[39m \u001b[39mNone\u001b[39;00m\n\u001b[0;32m    590\u001b[0m \u001b[39mwhile\u001b[39;00m status \u001b[39mis\u001b[39;00m \u001b[39mNone\u001b[39;00m:\n\u001b[1;32m--> 591\u001b[0m     message \u001b[39m=\u001b[39m solver\u001b[39m.\u001b[39;49mstep()\n\u001b[0;32m    593\u001b[0m     \u001b[39mif\u001b[39;00m solver\u001b[39m.\u001b[39mstatus \u001b[39m==\u001b[39m \u001b[39m'\u001b[39m\u001b[39mfinished\u001b[39m\u001b[39m'\u001b[39m:\n\u001b[0;32m    594\u001b[0m         status \u001b[39m=\u001b[39m \u001b[39m0\u001b[39m\n",
      "File \u001b[1;32mc:\\Users\\Patri\\anaconda3\\envs\\mpc\\Lib\\site-packages\\scipy\\integrate\\_ivp\\base.py:181\u001b[0m, in \u001b[0;36mOdeSolver.step\u001b[1;34m(self)\u001b[0m\n\u001b[0;32m    179\u001b[0m \u001b[39melse\u001b[39;00m:\n\u001b[0;32m    180\u001b[0m     t \u001b[39m=\u001b[39m \u001b[39mself\u001b[39m\u001b[39m.\u001b[39mt\n\u001b[1;32m--> 181\u001b[0m     success, message \u001b[39m=\u001b[39m \u001b[39mself\u001b[39;49m\u001b[39m.\u001b[39;49m_step_impl()\n\u001b[0;32m    183\u001b[0m     \u001b[39mif\u001b[39;00m \u001b[39mnot\u001b[39;00m success:\n\u001b[0;32m    184\u001b[0m         \u001b[39mself\u001b[39m\u001b[39m.\u001b[39mstatus \u001b[39m=\u001b[39m \u001b[39m'\u001b[39m\u001b[39mfailed\u001b[39m\u001b[39m'\u001b[39m\n",
      "File \u001b[1;32mc:\\Users\\Patri\\anaconda3\\envs\\mpc\\Lib\\site-packages\\scipy\\integrate\\_ivp\\rk.py:144\u001b[0m, in \u001b[0;36mRungeKutta._step_impl\u001b[1;34m(self)\u001b[0m\n\u001b[0;32m    141\u001b[0m h \u001b[39m=\u001b[39m t_new \u001b[39m-\u001b[39m t\n\u001b[0;32m    142\u001b[0m h_abs \u001b[39m=\u001b[39m np\u001b[39m.\u001b[39mabs(h)\n\u001b[1;32m--> 144\u001b[0m y_new, f_new \u001b[39m=\u001b[39m rk_step(\u001b[39mself\u001b[39;49m\u001b[39m.\u001b[39;49mfun, t, y, \u001b[39mself\u001b[39;49m\u001b[39m.\u001b[39;49mf, h, \u001b[39mself\u001b[39;49m\u001b[39m.\u001b[39;49mA,\n\u001b[0;32m    145\u001b[0m                        \u001b[39mself\u001b[39;49m\u001b[39m.\u001b[39;49mB, \u001b[39mself\u001b[39;49m\u001b[39m.\u001b[39;49mC, \u001b[39mself\u001b[39;49m\u001b[39m.\u001b[39;49mK)\n\u001b[0;32m    146\u001b[0m scale \u001b[39m=\u001b[39m atol \u001b[39m+\u001b[39m np\u001b[39m.\u001b[39mmaximum(np\u001b[39m.\u001b[39mabs(y), np\u001b[39m.\u001b[39mabs(y_new)) \u001b[39m*\u001b[39m rtol\n\u001b[0;32m    147\u001b[0m error_norm \u001b[39m=\u001b[39m \u001b[39mself\u001b[39m\u001b[39m.\u001b[39m_estimate_error_norm(\u001b[39mself\u001b[39m\u001b[39m.\u001b[39mK, h, scale)\n",
      "File \u001b[1;32mc:\\Users\\Patri\\anaconda3\\envs\\mpc\\Lib\\site-packages\\scipy\\integrate\\_ivp\\rk.py:64\u001b[0m, in \u001b[0;36mrk_step\u001b[1;34m(fun, t, y, f, h, A, B, C, K)\u001b[0m\n\u001b[0;32m     62\u001b[0m \u001b[39mfor\u001b[39;00m s, (a, c) \u001b[39min\u001b[39;00m \u001b[39menumerate\u001b[39m(\u001b[39mzip\u001b[39m(A[\u001b[39m1\u001b[39m:], C[\u001b[39m1\u001b[39m:]), start\u001b[39m=\u001b[39m\u001b[39m1\u001b[39m):\n\u001b[0;32m     63\u001b[0m     dy \u001b[39m=\u001b[39m np\u001b[39m.\u001b[39mdot(K[:s]\u001b[39m.\u001b[39mT, a[:s]) \u001b[39m*\u001b[39m h\n\u001b[1;32m---> 64\u001b[0m     K[s] \u001b[39m=\u001b[39m fun(t \u001b[39m+\u001b[39;49m c \u001b[39m*\u001b[39;49m h, y \u001b[39m+\u001b[39;49m dy)\n\u001b[0;32m     66\u001b[0m y_new \u001b[39m=\u001b[39m y \u001b[39m+\u001b[39m h \u001b[39m*\u001b[39m np\u001b[39m.\u001b[39mdot(K[:\u001b[39m-\u001b[39m\u001b[39m1\u001b[39m]\u001b[39m.\u001b[39mT, B)\n\u001b[0;32m     67\u001b[0m f_new \u001b[39m=\u001b[39m fun(t \u001b[39m+\u001b[39m h, y_new)\n",
      "File \u001b[1;32mc:\\Users\\Patri\\anaconda3\\envs\\mpc\\Lib\\site-packages\\scipy\\integrate\\_ivp\\base.py:138\u001b[0m, in \u001b[0;36mOdeSolver.__init__.<locals>.fun\u001b[1;34m(t, y)\u001b[0m\n\u001b[0;32m    136\u001b[0m \u001b[39mdef\u001b[39;00m \u001b[39mfun\u001b[39m(t, y):\n\u001b[0;32m    137\u001b[0m     \u001b[39mself\u001b[39m\u001b[39m.\u001b[39mnfev \u001b[39m+\u001b[39m\u001b[39m=\u001b[39m \u001b[39m1\u001b[39m\n\u001b[1;32m--> 138\u001b[0m     \u001b[39mreturn\u001b[39;00m \u001b[39mself\u001b[39;49m\u001b[39m.\u001b[39;49mfun_single(t, y)\n",
      "File \u001b[1;32mc:\\Users\\Patri\\anaconda3\\envs\\mpc\\Lib\\site-packages\\scipy\\integrate\\_ivp\\base.py:20\u001b[0m, in \u001b[0;36mcheck_arguments.<locals>.fun_wrapped\u001b[1;34m(t, y)\u001b[0m\n\u001b[0;32m     19\u001b[0m \u001b[39mdef\u001b[39;00m \u001b[39mfun_wrapped\u001b[39m(t, y):\n\u001b[1;32m---> 20\u001b[0m     \u001b[39mreturn\u001b[39;00m np\u001b[39m.\u001b[39masarray(fun(t, y), dtype\u001b[39m=\u001b[39mdtype)\n",
      "Cell \u001b[1;32mIn[7], line 7\u001b[0m, in \u001b[0;36mode\u001b[1;34m(t, state)\u001b[0m\n\u001b[0;32m      5\u001b[0m attitude\u001b[39m.\u001b[39mphi \u001b[39m=\u001b[39m \u001b[39m10\u001b[39m\n\u001b[0;32m      6\u001b[0m w \u001b[39m=\u001b[39m np\u001b[39m.\u001b[39marray([[wx,wy,wz]])\u001b[39m.\u001b[39mT\n\u001b[1;32m----> 7\u001b[0m u \u001b[39m=\u001b[39m attitude\u001b[39m.\u001b[39;49minput(np\u001b[39m.\u001b[39;49marray([[theta_x,theta_y,theta_z]])\u001b[39m.\u001b[39;49mT,w)\n\u001b[0;32m      8\u001b[0m th_dot \u001b[39m=\u001b[39m  B2 \u001b[39m@\u001b[39m np\u001b[39m.\u001b[39marray([[u[\u001b[39m0\u001b[39m,\u001b[39m0\u001b[39m],u[\u001b[39m1\u001b[39m,\u001b[39m0\u001b[39m],u[\u001b[39m2\u001b[39m,\u001b[39m0\u001b[39m]]])\u001b[39m.\u001b[39mT \u001b[39m-\u001b[39mB2 \u001b[39m@\u001b[39m np\u001b[39m.\u001b[39mcross(w,(falcon\u001b[39m.\u001b[39minertia\u001b[39m/\u001b[39mfalcon\u001b[39m.\u001b[39minertia[\u001b[39m0\u001b[39m,\u001b[39m0\u001b[39m])\u001b[39m@w\u001b[39m,axis\u001b[39m=\u001b[39m\u001b[39m0\u001b[39m)\n\u001b[0;32m     10\u001b[0m phi_dot \u001b[39m=\u001b[39m \u001b[39m0\u001b[39m\n",
      "File \u001b[1;32mc:\\Users\\Patri\\Documents\\MIT\\16.32\\Project\\Software\\Sliding.py:65\u001b[0m, in \u001b[0;36mSliding.input\u001b[1;34m(self, q, dq)\u001b[0m\n\u001b[0;32m     62\u001b[0m Q \u001b[39m=\u001b[39m \u001b[39m-\u001b[39m\u001b[39mself\u001b[39m\u001b[39m.\u001b[39mddref \u001b[39m+\u001b[39m \u001b[39mself\u001b[39m\u001b[39m.\u001b[39mlam\u001b[39m*\u001b[39m(dq \u001b[39m-\u001b[39m \u001b[39mself\u001b[39m\u001b[39m.\u001b[39mdref)\n\u001b[0;32m     63\u001b[0m \u001b[39minput\u001b[39m \u001b[39m=\u001b[39m \u001b[39m-\u001b[39m\u001b[39mself\u001b[39m\u001b[39m.\u001b[39mB_inv\u001b[39m@\u001b[39m(\u001b[39mself\u001b[39m\u001b[39m.\u001b[39mK\u001b[39m@self\u001b[39m\u001b[39m.\u001b[39msat(s) \u001b[39m+\u001b[39m \u001b[39mself\u001b[39m\u001b[39m.\u001b[39mA(dq) \u001b[39m+\u001b[39m Q\u001b[39m*\u001b[39m\u001b[39m10\u001b[39m)\n\u001b[1;32m---> 65\u001b[0m \u001b[39mself\u001b[39m\u001b[39m.\u001b[39minputs \u001b[39m=\u001b[39m np\u001b[39m.\u001b[39;49mhstack((\u001b[39mself\u001b[39;49m\u001b[39m.\u001b[39;49minputs,\u001b[39minput\u001b[39;49m))\n\u001b[0;32m     66\u001b[0m \u001b[39mreturn\u001b[39;00m \u001b[39minput\u001b[39m\n",
      "File \u001b[1;32m<__array_function__ internals>:200\u001b[0m, in \u001b[0;36mhstack\u001b[1;34m(*args, **kwargs)\u001b[0m\n",
      "File \u001b[1;32mc:\\Users\\Patri\\anaconda3\\envs\\mpc\\Lib\\site-packages\\numpy\\core\\shape_base.py:370\u001b[0m, in \u001b[0;36mhstack\u001b[1;34m(tup, dtype, casting)\u001b[0m\n\u001b[0;32m    368\u001b[0m     \u001b[39mreturn\u001b[39;00m _nx\u001b[39m.\u001b[39mconcatenate(arrs, \u001b[39m0\u001b[39m, dtype\u001b[39m=\u001b[39mdtype, casting\u001b[39m=\u001b[39mcasting)\n\u001b[0;32m    369\u001b[0m \u001b[39melse\u001b[39;00m:\n\u001b[1;32m--> 370\u001b[0m     \u001b[39mreturn\u001b[39;00m _nx\u001b[39m.\u001b[39;49mconcatenate(arrs, \u001b[39m1\u001b[39;49m, dtype\u001b[39m=\u001b[39;49mdtype, casting\u001b[39m=\u001b[39;49mcasting)\n",
      "File \u001b[1;32m<__array_function__ internals>:200\u001b[0m, in \u001b[0;36mconcatenate\u001b[1;34m(*args, **kwargs)\u001b[0m\n",
      "\u001b[1;31mKeyboardInterrupt\u001b[0m: "
     ]
    }
   ],
   "source": [
    "from scipy.integrate import solve_ivp\n",
    "B2 = np.linalg.inv(falcon.inertia/falcon.inertia[0,0])\n",
    "def ode(t,state):\n",
    "    theta_x,theta_y,theta_z,wx,wy,wz,phi= state\n",
    "    attitude.phi = 10\n",
    "    w = np.array([[wx,wy,wz]]).T\n",
    "    u = attitude.input(np.array([[theta_x,theta_y,theta_z]]).T,w)\n",
    "    th_dot =  B2 @ np.array([[u[0,0],u[1,0],u[2,0]]]).T -B2 @ np.cross(w,(falcon.inertia/falcon.inertia[0,0])@w,axis=0)\n",
    "    \n",
    "    phi_dot = 0\n",
    "    return [wx,wy,wz,th_dot[0,0],th_dot[1,0],th_dot[2,0],phi_dot]\n",
    "\n",
    "t_eval = np.linspace(0,10,100)\n",
    "sol = solve_ivp(ode,[0,10],[0,0,0,0,0,0,100],t_eval=t_eval,rtol=1e-1)\n",
    "\n",
    "print(sol.y)\n"
   ]
  },
  {
   "cell_type": "code",
   "execution_count": 8,
   "metadata": {},
   "outputs": [
    {
     "ename": "NameError",
     "evalue": "name 'sol' is not defined",
     "output_type": "error",
     "traceback": [
      "\u001b[1;31m---------------------------------------------------------------------------\u001b[0m",
      "\u001b[1;31mNameError\u001b[0m                                 Traceback (most recent call last)",
      "Cell \u001b[1;32mIn[8], line 1\u001b[0m\n\u001b[1;32m----> 1\u001b[0m plt\u001b[39m.\u001b[39mplot(sol\u001b[39m.\u001b[39mt,sol\u001b[39m.\u001b[39my[\u001b[39m0\u001b[39m])\n\u001b[0;32m      3\u001b[0m plt\u001b[39m.\u001b[39mfigure()\n\u001b[0;32m      5\u001b[0m plt\u001b[39m.\u001b[39mplot(attitude\u001b[39m.\u001b[39minputs[\u001b[39m0\u001b[39m,:])\n",
      "\u001b[1;31mNameError\u001b[0m: name 'sol' is not defined"
     ]
    }
   ],
   "source": [
    "plt.plot(sol.t,sol.y[0])\n",
    "\n",
    "plt.figure()\n",
    "\n",
    "plt.plot(attitude.inputs[0,:])"
   ]
  },
  {
   "cell_type": "code",
   "execution_count": 9,
   "metadata": {},
   "outputs": [
    {
     "name": "stdout",
     "output_type": "stream",
     "text": [
      "theta [[0.        ]\n",
      " [0.        ]\n",
      " [3.14159265]]\n",
      "w [[0.]\n",
      " [0.]\n",
      " [0.]]\n",
      "c [[ 3.11439789e-01]\n",
      " [ 3.11439789e-01]\n",
      " [-2.33466914e+03]]\n",
      "theta [[0.        ]\n",
      " [0.        ]\n",
      " [3.14159265]]\n",
      "w [[0.]\n",
      " [0.]\n",
      " [0.]]\n",
      "c [[ 3.11439789e-01]\n",
      " [ 3.11439789e-01]\n",
      " [-2.33466914e+03]]\n",
      "[0, 1.5571989461948765, 11673.345688221863]\n",
      "theta [[0.        ]\n",
      " [0.        ]\n",
      " [3.14159265]]\n",
      "w [[1.3891342e-07]\n",
      " [0.0000000e+00]\n",
      " [0.0000000e+00]]\n",
      "c [[ 3.11436795e-01]\n",
      " [ 3.11439789e-01]\n",
      " [-2.33466914e+03]]\n",
      "theta [[0.        ]\n",
      " [0.        ]\n",
      " [3.14159265]]\n",
      "w [[1.3891342e-07]\n",
      " [0.0000000e+00]\n",
      " [0.0000000e+00]]\n",
      "c [[ 3.11436795e-01]\n",
      " [ 3.11439789e-01]\n",
      " [-2.33466914e+03]]\n",
      "[0, 1.5571989461948765, 11673.345688221863]\n",
      "theta [[0.        ]\n",
      " [0.        ]\n",
      " [3.14159265]]\n",
      "w [[2.7782684e-07]\n",
      " [0.0000000e+00]\n",
      " [0.0000000e+00]]\n",
      "c [[ 3.11433800e-01]\n",
      " [ 3.11439789e-01]\n",
      " [-2.33466914e+03]]\n",
      "theta [[0.        ]\n",
      " [0.        ]\n",
      " [3.14159265]]\n",
      "w [[2.7782684e-07]\n",
      " [0.0000000e+00]\n",
      " [0.0000000e+00]]\n",
      "c [[ 3.11433800e-01]\n",
      " [ 3.11439789e-01]\n",
      " [-2.33466914e+03]]\n",
      "[0, 1.5571989461948765, 11673.345688221863]\n",
      "theta [[0.        ]\n",
      " [0.        ]\n",
      " [3.14159265]]\n",
      "w [[4.16740259e-07]\n",
      " [0.00000000e+00]\n",
      " [0.00000000e+00]]\n",
      "c [[ 3.11430805e-01]\n",
      " [ 3.11439789e-01]\n",
      " [-2.33466914e+03]]\n",
      "theta [[0.        ]\n",
      " [0.        ]\n",
      " [3.14159265]]\n",
      "w [[4.16740259e-07]\n",
      " [0.00000000e+00]\n",
      " [0.00000000e+00]]\n",
      "c [[ 3.11430805e-01]\n",
      " [ 3.11439789e-01]\n",
      " [-2.33466914e+03]]\n",
      "[0, 1.5571989461948765, 11673.345688221863]\n",
      "theta [[0.        ]\n",
      " [0.        ]\n",
      " [3.14159265]]\n",
      "w [[5.55653679e-07]\n",
      " [0.00000000e+00]\n",
      " [0.00000000e+00]]\n",
      "c [[ 3.11427811e-01]\n",
      " [ 3.11439789e-01]\n",
      " [-2.33466914e+03]]\n",
      "theta [[0.        ]\n",
      " [0.        ]\n",
      " [3.14159265]]\n",
      "w [[5.55653679e-07]\n",
      " [0.00000000e+00]\n",
      " [0.00000000e+00]]\n",
      "c [[ 3.11427811e-01]\n",
      " [ 3.11439789e-01]\n",
      " [-2.33466914e+03]]\n",
      "[0, 1.5571989461948765, 11673.345688221863]\n",
      "theta [[0.        ]\n",
      " [0.        ]\n",
      " [3.14159265]]\n",
      "w [[6.94567099e-07]\n",
      " [0.00000000e+00]\n",
      " [0.00000000e+00]]\n",
      "c [[ 3.11424816e-01]\n",
      " [ 3.11439789e-01]\n",
      " [-2.33466914e+03]]\n",
      "theta [[0.        ]\n",
      " [0.        ]\n",
      " [3.14159265]]\n",
      "w [[6.94567099e-07]\n",
      " [0.00000000e+00]\n",
      " [0.00000000e+00]]\n",
      "c [[ 3.11424816e-01]\n",
      " [ 3.11439789e-01]\n",
      " [-2.33466914e+03]]\n",
      "[0, 1.5571989461948765, 11673.345688221863]\n",
      "theta [[0.        ]\n",
      " [0.        ]\n",
      " [3.14159265]]\n",
      "w [[8.33480519e-07]\n",
      " [0.00000000e+00]\n",
      " [0.00000000e+00]]\n",
      "c [[ 3.11421822e-01]\n",
      " [ 3.11439789e-01]\n",
      " [-2.33466914e+03]]\n",
      "theta [[0.        ]\n",
      " [0.        ]\n",
      " [3.14159265]]\n",
      "w [[8.33480519e-07]\n",
      " [0.00000000e+00]\n",
      " [0.00000000e+00]]\n",
      "c [[ 3.11421822e-01]\n",
      " [ 3.11439789e-01]\n",
      " [-2.33466914e+03]]\n",
      "[0, 1.5571989461948765, 11673.345688221863]\n",
      "theta [[0.        ]\n",
      " [0.        ]\n",
      " [3.14159265]]\n",
      "w [[9.72393939e-07]\n",
      " [0.00000000e+00]\n",
      " [0.00000000e+00]]\n",
      "c [[ 3.11418827e-01]\n",
      " [ 3.11439789e-01]\n",
      " [-2.33466914e+03]]\n",
      "theta [[0.        ]\n",
      " [0.        ]\n",
      " [3.14159265]]\n",
      "w [[9.72393939e-07]\n",
      " [0.00000000e+00]\n",
      " [0.00000000e+00]]\n",
      "c [[ 3.11418827e-01]\n",
      " [ 3.11439789e-01]\n",
      " [-2.33466914e+03]]\n",
      "[0, 1.5571989461948765, 11673.345688221863]\n",
      "theta [[0.        ]\n",
      " [0.        ]\n",
      " [3.14159265]]\n",
      "w [[1.11130736e-06]\n",
      " [0.00000000e+00]\n",
      " [0.00000000e+00]]\n",
      "c [[ 3.11415833e-01]\n",
      " [ 3.11439789e-01]\n",
      " [-2.33466914e+03]]\n",
      "theta [[0.        ]\n",
      " [0.        ]\n",
      " [3.14159265]]\n",
      "w [[1.11130736e-06]\n",
      " [0.00000000e+00]\n",
      " [0.00000000e+00]]\n",
      "c [[ 3.11415833e-01]\n",
      " [ 3.11439789e-01]\n",
      " [-2.33466914e+03]]\n",
      "[0, 1.5571989461948765, 11673.345688221863]\n",
      "theta [[0.        ]\n",
      " [0.        ]\n",
      " [3.14159265]]\n",
      "w [[1.25022078e-06]\n",
      " [0.00000000e+00]\n",
      " [0.00000000e+00]]\n",
      "c [[ 3.11412838e-01]\n",
      " [ 3.11439789e-01]\n",
      " [-2.33466914e+03]]\n",
      "theta [[0.        ]\n",
      " [0.        ]\n",
      " [3.14159265]]\n",
      "w [[1.25022078e-06]\n",
      " [0.00000000e+00]\n",
      " [0.00000000e+00]]\n",
      "c [[ 3.11412838e-01]\n",
      " [ 3.11439789e-01]\n",
      " [-2.33466914e+03]]\n",
      "[0, 1.5571989461948765, 11673.345688221863]\n"
     ]
    }
   ],
   "source": [
    "\n",
    "control = []\n",
    "import time\n",
    "mpc.tf = 20\n",
    "for i in range(1):\n",
    "    res = mpc.run(dynamics.state)\n",
    "    #falcon.inputVec(falcon.mass*res[0][1],falcon.mass*res[1][1],falcon.mass*res[2][1])\n",
    "    \n",
    "    \n",
    "    #falcon.inputNpVec(control)\n",
    "    \n",
    "    for j in range(10):\n",
    "        control = attitude.control(dynamics.state)\n",
    "        falcon.inputVec(control[0],control[1],control[2])\n",
    "        print(control)\n",
    "        dynamics.update(1)\n",
    "\n",
    "    #print(res[0][1],res[1][1],res[2][1])\n",
    "\n"
   ]
  },
  {
   "cell_type": "code",
   "execution_count": 10,
   "metadata": {},
   "outputs": [
    {
     "name": "stdout",
     "output_type": "stream",
     "text": [
      "Plot?\n"
     ]
    },
    {
     "data": {
      "image/png": "[encoded data removed]",
      "text/plain": [
       "<Figure size 2000x1000 with 1 Axes>"
      ]
     },
     "metadata": {},
     "output_type": "display_data"
    }
   ],
   "source": [
    "plot3d = Plot3D(falcon, dynamics.states)\n",
    "plot3d.set(10,5)\n",
    "plot3d.plot()\n",
    "plot3d.attitude()\n",
    "plot3d.origin()\n",
    "print(\"Plot?\")"
   ]
  },
  {
   "cell_type": "code",
   "execution_count": null,
   "metadata": {},
   "outputs": [
    {
     "data": {
      "text/plain": [
       "[<matplotlib.lines.Line2D at 0x2052825ccd0>]"
      ]
     },
     "execution_count": 11,
     "metadata": {},
     "output_type": "execute_result"
    },
    {
     "data": {
      "image/png": "[encoded data removed]",
      "text/plain": [
       "<Figure size 640x480 with 1 Axes>"
      ]
     },
     "metadata": {},
     "output_type": "display_data"
    }
   ],
   "source": [
    "plt.plot(attitude.inputs[2,:])"
   ]
  },
  {
   "cell_type": "code",
   "execution_count": null,
   "metadata": {},
   "outputs": [
    {
     "data": {
      "image/png": "[encoded data removed]",
      "text/plain": [
       "<Figure size 640x480 with 1 Axes>"
      ]
     },
     "metadata": {},
     "output_type": "display_data"
    },
    {
     "data": {
      "image/png": "[encoded data removed]",
      "text/plain": [
       "<Figure size 640x480 with 1 Axes>"
      ]
     },
     "metadata": {},
     "output_type": "display_data"
    },
    {
     "data": {
      "image/png": "[encoded data removed]",
      "text/plain": [
       "<Figure size 640x480 with 1 Axes>"
      ]
     },
     "metadata": {},
     "output_type": "display_data"
    }
   ],
   "source": [
    "plot3d.attitudeGraph()"
   ]
  }
 ],
 "metadata": {
  "kernelspec": {
   "display_name": "Python 3",
   "language": "python",
   "name": "python3"
  },
  "language_info": {
   "codemirror_mode": {
    "name": "ipython",
    "version": 3
   },
   "file_extension": ".py",
   "mimetype": "text/x-python",
   "name": "python",
   "nbconvert_exporter": "python",
   "pygments_lexer": "ipython3",
   "version": "3.11.3"
  },
  "orig_nbformat": 4
 },
 "nbformat": 4,
 "nbformat_minor": 2
}
