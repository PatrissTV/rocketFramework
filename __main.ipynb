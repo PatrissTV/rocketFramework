{
 "cells": [
  {
   "cell_type": "code",
   "execution_count": 1,
   "metadata": {},
   "outputs": [],
   "source": [
    "import numpy as np\n",
    "import matplotlib.pyplot as plt\n",
    "from Rocket import Rocket\n",
    "from Dynamics import Dynamics\n",
    "\n",
    "\n",
    "import time\n",
    "import pylab as pl\n",
    "from IPython import display"
   ]
  },
  {
   "attachments": {},
   "cell_type": "markdown",
   "metadata": {},
   "source": [
    "Dynamics of the rocket\n",
    "\n",
    "$m \\, \\ddot{x} = F_x$\n",
    "\n",
    "$m \\, \\ddot{z} = -m\\,g + T\\,\\cos{\\alpha}$\n",
    "\n",
    "$ I_y \\, \\ddot{\\theta_y} = T\\,l_t\\,\\sin{\\alpha}$"
   ]
  },
  {
   "attachments": {},
   "cell_type": "markdown",
   "metadata": {},
   "source": [
    "Control inputs $T$ and $\\alpha$\n",
    "\n",
    "$\\begin{bmatrix}F_x \\\\ F_z\\end{bmatrix}$ = $rot(\\theta _y)\\begin{bmatrix}T\\,\\sin{\\alpha} \\\\ T\\,\\cos{\\alpha}\\end{bmatrix}$\n"
   ]
  },
  {
   "cell_type": "code",
   "execution_count": 2,
   "metadata": {},
   "outputs": [],
   "source": [
    "#https://www.spacex.com/vehicles/falcon-9/\n",
    "\n",
    "falcon = Rocket(\"Falcon 9\")\n",
    "falcon.mass = 549054 #kg\n",
    "falcon.height = 70 #m\n",
    "falcon.radius = 3.7/2 #m\n",
    "falcon.max_thrust = 7607e3 #N\n",
    "falcon.cg_thrust_length = 30 #m\n",
    "\n",
    "falcon.load()\n",
    "dynamics = Dynamics(falcon)"
   ]
  },
  {
   "cell_type": "code",
   "execution_count": 38,
   "metadata": {},
   "outputs": [
    {
     "name": "stderr",
     "output_type": "stream",
     "text": [
      "c:\\Users\\Patri\\Documents\\MIT\\16.32\\Project\\Software\\Dynamics.py:123: RuntimeWarning: More than 20 figures have been opened. Figures created through the pyplot interface (`matplotlib.pyplot.figure`) are retained until explicitly closed and may consume too much memory. (To control this warning, see the rcParam `figure.max_open_warning`). Consider using `matplotlib.pyplot.close()`.\n",
      "  ax = plt.figure(figsize=(20,10)).add_subplot(projection='3d')\n"
     ]
    }
   ],
   "source": [
    "falcon.input(1,0.1,np.pi/4)\n",
    "\n",
    "\n",
    "\n",
    "for i in range(100):\n",
    "    dynamics.update(0.1)\n",
    "\n",
    "dynamics.plot3d()"
   ]
  },
  {
   "cell_type": "code",
   "execution_count": 4,
   "metadata": {},
   "outputs": [
    {
     "data": {
      "text/plain": [
       "array([0, 1, 2, 1, 2, 3])"
      ]
     },
     "execution_count": 4,
     "metadata": {},
     "output_type": "execute_result"
    }
   ],
   "source": [
    "np.concatenate((np.array([0,1,2]),np.array([1,2,3])))"
   ]
  }
 ],
 "metadata": {
  "kernelspec": {
   "display_name": "Python 3",
   "language": "python",
   "name": "python3"
  },
  "language_info": {
   "codemirror_mode": {
    "name": "ipython",
    "version": 3
   },
   "file_extension": ".py",
   "mimetype": "text/x-python",
   "name": "python",
   "nbconvert_exporter": "python",
   "pygments_lexer": "ipython3",
   "version": "3.11.1"
  },
  "orig_nbformat": 4
 },
 "nbformat": 4,
 "nbformat_minor": 2
}
